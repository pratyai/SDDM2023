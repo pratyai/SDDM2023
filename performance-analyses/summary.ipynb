{
 "cells": [
  {
   "cell_type": "code",
   "execution_count": null,
   "metadata": {},
   "outputs": [],
   "source": [
    "using JLD2\n",
    "using Statistics\n",
    "using Printf\n",
    "using Laplacians"
   ]
  },
  {
   "cell_type": "markdown",
   "metadata": {},
   "source": [
    "## This notebook outputs the summary tables"
   ]
  },
  {
   "cell_type": "code",
   "execution_count": null,
   "metadata": {},
   "outputs": [],
   "source": [
    "# SuiteSparse \n",
    "@load \"suitesparse_all.jl.split02merge02.jld2\"\n",
    "dic_suitesparse = copy(dic);"
   ]
  },
  {
   "cell_type": "code",
   "execution_count": null,
   "metadata": {},
   "outputs": [],
   "source": [
    "@load \"uniform_grid_all.jl.split02merge02.jld2\"\n",
    "dic1 = copy(dic);"
   ]
  },
  {
   "cell_type": "code",
   "execution_count": 6,
   "metadata": {},
   "outputs": [],
   "source": [
    "# unweighted chimera\n",
    "@load \"uni_chimera_all.jl.split02merge02.n10000.h1.0.jld2\"\n",
    "dic_uniChimera = copy(dic);\n",
    "@load \"uni_chimera_all.jl.split02merge02.n100000.h2.0.jld2\"\n",
    "dic_uniChimera = merge(combine, dic_uniChimera, dic);\n",
    "@load \"uni_chimera_all.jl.split02merge02.n1000000.h4.0.jld2\"\n",
    "dic_uniChimera = merge(combine, dic_uniChimera, dic);\n",
    "@load \"uni_chimera_all.jl.split02merge02.n10000000.h8.0.jld2\"\n",
    "dic_uniChimera = merge(combine, dic_uniChimera, dic);"
   ]
  },
  {
   "cell_type": "code",
   "execution_count": 7,
   "metadata": {},
   "outputs": [],
   "source": [
    "# weighted chimera\n",
    "@load \"wted_chimera_nopetsc.jl.split02merge02.n10000.h1.0.jld2\"\n",
    "dic_wtedChimera = copy(dic);\n",
    "@load \"wted_chimera_nopetsc.jl.split02merge02.n100000.h2.0.jld2\"\n",
    "dic_wtedChimera = merge(combine, dic_wtedChimera, dic);\n",
    "@load \"wted_chimera_nopetsc.jl.split02merge02.n1000000.h4.0.jld2\"\n",
    "dic_wtedChimera = merge(combine, dic_wtedChimera, dic);\n",
    "@load \"wted_chimera_nopetsc.jl.split02merge02.n10000000.h8.0.jld2\"\n",
    "dic_wtedChimera = merge(combine, dic_wtedChimera, dic);"
   ]
  },
  {
   "cell_type": "code",
   "execution_count": 8,
   "metadata": {},
   "outputs": [],
   "source": [
    "# unweighted boundary chimera\n",
    "@load \"uni_bndry_chimera_all.jl.split02merge02.n10000.h1.0.jld2\"\n",
    "dic_uniBndryChimera = copy(dic);\n",
    "@load \"uni_bndry_chimera_all.jl.split02merge02.n100000.h2.0.jld2\"\n",
    "dic_uniBndryChimera = merge(combine, dic_uniBndryChimera, dic);\n",
    "@load \"uni_bndry_chimera_all.jl.split02merge02.n1000000.h4.0.jld2\"\n",
    "dic_uniBndryChimera = merge(combine, dic_uniBndryChimera, dic);\n",
    "@load \"uni_bndry_chimera_all.jl.split02merge02.n10000000.h8.0.jld2\"\n",
    "dic_uniBndryChimera = merge(combine, dic_uniBndryChimera, dic);"
   ]
  },
  {
   "cell_type": "code",
   "execution_count": 9,
   "metadata": {},
   "outputs": [],
   "source": [
    "# weighted boundary chimera\n",
    "@load \"wted_bndry_chimera_nopetsc.jl.split02merge02.n10000.h1.0.jld2\"\n",
    "dic_wtedBndryChimera = copy(dic)\n",
    "@load \"wted_bndry_chimera_nopetsc.jl.split02merge02.n100000.h2.0.jld2\"\n",
    "dic_wtedBndryChimera = merge(combine, dic_wtedBndryChimera, dic);\n",
    "@load \"wted_bndry_chimera_nopetsc.jl.split02merge02.n1000000.h4.0.jld2\"\n",
    "dic_wtedBndryChimera = merge(combine, dic_wtedBndryChimera, dic);\n",
    "@load \"wted_bndry_chimera_nopetsc.jl.split02merge02.n10000000.h8.0.jld2\"\n",
    "dic_wtedBndryChimera = merge(combine, dic_wtedBndryChimera, dic);"
   ]
  },
  {
   "cell_type": "code",
   "execution_count": 10,
   "metadata": {},
   "outputs": [],
   "source": [
    "# max flow \n",
    "@load \"chimeraIPM_nopetsc.jl.split02merge02.jld2\"\n",
    "dic_maxFlow = copy(dic);\n",
    "@load \"spielmanIPM_all.jl.split02merge02.jld2\"\n",
    "dic_maxFlow = merge(combine, dic_maxFlow, dic);"
   ]
  },
  {
   "cell_type": "code",
   "execution_count": 11,
   "metadata": {},
   "outputs": [],
   "source": [
    "# Sachdeva star \n",
    "@load \"sachdeva_star_all.jl.split02merge02.jld2\"\n",
    "dic_sachdevaStar = copy(dic);"
   ]
  },
  {
   "cell_type": "code",
   "execution_count": 12,
   "metadata": {},
   "outputs": [],
   "source": [
    "# SPE \n",
    "@load \"spe_all.jl.split02merge02.jld2\"\n",
    "dic_spe = copy(dic);"
   ]
  },
  {
   "cell_type": "code",
   "execution_count": 13,
   "metadata": {},
   "outputs": [],
   "source": [
    "# uniform grid\n",
    "@load \"uniform_grid_all.jl.split02merge02.jld2\"\n",
    "dic_uniGrid = copy(dic);"
   ]
  },
  {
   "cell_type": "code",
   "execution_count": 14,
   "metadata": {},
   "outputs": [],
   "source": [
    "# checkered grid (high contrast grid)\n",
    "@load \"checkered_all.jl.split02merge02.jld2\"\n",
    "dic_checkeredGrid = copy(dic);"
   ]
  },
  {
   "cell_type": "code",
   "execution_count": 15,
   "metadata": {},
   "outputs": [],
   "source": [
    "# aniso grid \n",
    "@load \"aniso_all.jl.split02merge02.jld2\"\n",
    "dic_anisoGrid = copy(dic);"
   ]
  },
  {
   "cell_type": "code",
   "execution_count": 16,
   "metadata": {},
   "outputs": [],
   "source": [
    "# weighted grid \n",
    "@load \"wgrid_all.jl.split02merge02.jld2\"\n",
    "dic_wtedGrid = copy(dic);"
   ]
  },
  {
   "cell_type": "markdown",
   "metadata": {},
   "source": [
    "### done"
   ]
  },
  {
   "cell_type": "code",
   "execution_count": 22,
   "metadata": {},
   "outputs": [],
   "source": [
    "dicAll = [dic_suitesparse, dic_uniChimera, dic_wtedChimera, dic_uniBndryChimera, dic_wtedBndryChimera, dic_maxFlow, dic_sachdevaStar, dic_spe, dic_uniGrid, dic_checkeredGrid,dic_anisoGrid,dic_wtedGrid]"
   ]
  },
  {
   "cell_type": "code",
   "execution_count": 23,
   "metadata": {},
   "outputs": [],
   "source": [
    "instanceNames = [\"SuiteSparse Matrix Collection\",  \"Unweighted chimeras\", \"Weighted chimeras\", \"Unweighted SDDM chimeras\", \"Weighted SDDM chimeras\", \"Maximum flow IPMs\", \"Barbell stars\", \"SPE benchmark\", \"Uniform coefficient Poisson grid\", \"High contrast coefficient Poisson grid\", \"Anisotropic coef. Poisson grid, variable discretization\", \"Anisotropic coef. Poisson grid, variable weight\"];"
   ]
  },
  {
   "cell_type": "code",
   "execution_count": 24,
   "metadata": {},
   "outputs": [
    {
     "data": {
      "text/plain": [
       "ffe6 (generic function with 1 method)"
      ]
     },
     "execution_count": 24,
     "metadata": {},
     "output_type": "execute_result"
    }
   ],
   "source": [
    "function sd(d,x)\n",
    "    #scale = exp10(ceil(log10(abs(x)))-d)\n",
    "    #return round(x/scale)*scale\n",
    "    return round(x, sigdigits=3)\n",
    "end        \n",
    "ff(s) = (@sprintf \"%.4g\" sd(3,s))\n",
    "nf(s) = (@sprintf \"%d\" sd(3,s))\n",
    "ffK(s) = (@sprintf \"%.4g\" sd(3,s)/1000)\n",
    "nfK(s) =  round(Int64, sd(3,s)/1000)\n",
    "ffe8(s) = (@sprintf \"%.3g\" sd(3,s)*1e8)\n",
    "ffe6(s) = (@sprintf \"%.3g\" sd(3,s)*1e6)"
   ]
  },
  {
   "cell_type": "code",
   "execution_count": 25,
   "metadata": {},
   "outputs": [],
   "source": [
    "solvers=[\"ac\", \"ac-s2m2\", \"cmg\", \"hypre\", \"petsc_hypre\",  \"icc\"];"
   ]
  },
  {
   "cell_type": "code",
   "execution_count": 26,
   "metadata": {},
   "outputs": [
    {
     "data": {
      "text/plain": [
       "get_tvn_max (generic function with 1 method)"
      ]
     },
     "execution_count": 26,
     "metadata": {},
     "output_type": "execute_result"
    }
   ],
   "source": [
    "function get_tvn_max(d, solvers)\n",
    "    \n",
    "    results_array = []\n",
    "    for solver in solvers \n",
    "        if haskey(d, string(solver, \"_tot\")) && length(d[string(solver, \"_tot\")]) == length(d[\"ne\"])\n",
    "            cur_err = maximum(d[string(solver, \"_err\")])\n",
    "            tvn = maximum((d[string(solver, \"_tot\")] ./ d[\"ne\"]))\n",
    "            if cur_err <= 1e-8\n",
    "                push!(results_array, (solver, ffe6(tvn)))\n",
    "            elseif cur_err < 1e-4\n",
    "                push!(results_array, (solver, string(ffe6(tvn), \"\\\\tnote{*}\")))\n",
    "            elseif cur_err < 1\n",
    "                push!(results_array, (solver, string(ffe6(tvn), \"\\\\tnote{**}\")))\n",
    "            else\n",
    "                push!(results_array, (solver, \"Inf\"))\n",
    "            end\n",
    "        else\n",
    "            push!(results_array, (solver, \"N/A\"))\n",
    "        end\n",
    "    end\n",
    "\n",
    "    results = Dict(results_array)\n",
    "    return results\n",
    "end"
   ]
  },
  {
   "cell_type": "code",
   "execution_count": 27,
   "metadata": {},
   "outputs": [
    {
     "name": "stdout",
     "output_type": "stream",
     "text": [
      "{SuiteSparse Matrix Collection}&0.994&1.4&Inf&Inf&27.1&153\\\\\n",
      "{Unweighted chimeras}&3.95&7.19&Inf&Inf&Inf&Inf\\\\\n",
      "{Weighted chimeras}&4.39&4.79&Inf&Inf&N/A&Inf\\\\\n",
      "{Unweighted SDDM chimeras}&3.4&5.44&Inf&Inf&Inf&Inf\\\\\n",
      "{Weighted SDDM chimeras}&4.34&4.36&Inf&Inf&N/A&Inf\\\\\n",
      "{Maximum flow IPMs}&1.2&2.39&1.9\\tnote{**}&5.04\\tnote{*}&N/A&Inf\\\\\n",
      "{Barbell stars}&4.66\\tnote{**}&1.05&0.868&3.52\\tnote{**}&7.22\\tnote{**}&Inf\\\\\n",
      "{SPE benchmark}&1.62&1.91&0.511&0.648&2.58&4.29\\\\\n",
      "{Uniform coefficient Poisson grid}&1.46&2.49&0.624&0.587&2.62&2.22\\\\\n",
      "{High contrast coefficient Poisson grid}&2.33&3.57&0.572&0.752&3.85&4.76\\\\\n",
      "{Anisotropic coef. Poisson grid, variable discretization}&1.48&2.5&0.659&0.614&2.6&1.92\\\\\n",
      "{Anisotropic coef. Poisson grid, variable weight}&1.67&2.5&0.674&0.772&4.92&2.44\\\\\n"
     ]
    }
   ],
   "source": [
    "for (index, d) in enumerate(dicAll)\n",
    "    max_tvns = get_tvn_max(d, solvers)\n",
    "    line = string(\"{\", instanceNames[index], \"}&\", join([max_tvns[solver] for solver in solvers], \"&\"), \"\\\\\\\\\")\n",
    "    println(line)\n",
    "end"
   ]
  }
 ],
 "metadata": {
  "kernelspec": {
   "display_name": "Julia 1.5.3",
   "language": "julia",
   "name": "julia-1.5"
  },
  "language_info": {
   "file_extension": ".jl",
   "mimetype": "application/julia",
   "name": "julia",
   "version": "1.5.3"
  },
  "orig_nbformat": 4
 },
 "nbformat": 4,
 "nbformat_minor": 2
}
