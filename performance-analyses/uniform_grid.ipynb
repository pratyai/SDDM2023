{
 "cells": [
  {
   "cell_type": "code",
   "execution_count": 19,
   "metadata": {},
   "outputs": [],
   "source": [
    "using JLD2\n",
    "using Statistics\n",
    "using Laplacians\n",
    "using Printf"
   ]
  },
  {
   "cell_type": "code",
   "execution_count": 20,
   "metadata": {},
   "outputs": [],
   "source": [
    "@load \"uniform_grid_all.jl.split02merge02.jld2\"\n",
    "dic1 = copy(dic);"
   ]
  },
  {
   "cell_type": "code",
   "execution_count": 21,
   "metadata": {},
   "outputs": [
    {
     "data": {
      "text/plain": [
       "ffe6 (generic function with 1 method)"
      ]
     },
     "metadata": {},
     "output_type": "display_data"
    }
   ],
   "source": [
    "function sd(d,x)\n",
    "    #scale = exp10(ceil(log10(abs(x)))-d)\n",
    "    #return round(x/scale)*scale\n",
    "    return round(x, sigdigits=d)\n",
    "end        \n",
    "\n",
    "#constant d = 3\n",
    "ff(s) = (@sprintf \"%.3g\" sd(3,s))\n",
    "nf(s) = (@sprintf \"%d\" sd(3,s))\n",
    "\n",
    "ffK(s) = (@sprintf \"%.3g\" sd(3,s)/1000)\n",
    "nfK(s) =  round(Int64, sd(3,s)/1000)\n",
    "\n",
    "ffe8(s) = (@sprintf \"%.3g\" sd(3,s)*1e8)\n",
    "ffM(s) = (@sprintf \"%.3g\" sd(3,s)/1e6)\n",
    "nfM(s) =  round(Int64, sd(3,s)/1e6)\n",
    "ffe6(s) = (@sprintf \"%.3g\" sd(3,s)*1e6)"
   ]
  },
  {
   "cell_type": "code",
   "execution_count": 22,
   "metadata": {},
   "outputs": [
    {
     "data": {
      "text/plain": [
       "printAllLines (generic function with 1 method)"
      ]
     },
     "metadata": {},
     "output_type": "display_data"
    }
   ],
   "source": [
    "function labelTvn(tvn, err)\n",
    "    if err <= 1e-8\n",
    "        return ffe6(tvn)\n",
    "    elseif err < 1e-4\n",
    "        return string(ffe6(tvn), \"\\\\tnote{*}\")\n",
    "    elseif err < 1\n",
    "        return string(ffe6(tvn), \"\\\\tnote{**}\")\n",
    "    else\n",
    "        return \"Inf\"\n",
    "    end\n",
    "end\n",
    "\n",
    "function printSolverCell(d, solver, i)\n",
    "    if haskey(d, string(solver, \"_tot\"))\n",
    "        itr = d[string(solver, \"_its\")][i]\n",
    "        ne = d[\"ne\"][i]\n",
    "        solveVn = d[string(solver, \"_solve\")][i] / ne\n",
    "        totalVn = d[string(solver, \"_tot\")][i] / ne\n",
    "        err = d[string(solver, \"_err\")][i]\n",
    "        return string(\"&\", nf(itr), \"&\", labelTvn(solveVn, err), \"&\", labelTvn(totalVn, err), \"&\",ffe8(err))\n",
    "    else\n",
    "        return \"&N/A&N/A&N/A&N/A\"\n",
    "    end\n",
    "end\n",
    "\n",
    "function printOneLine(d, solvers, i)\n",
    "    allCells = [printSolverCell(d, solver, i) for solver in solvers]\n",
    "    return string(nfK(d[\"ne\"][i]), \"&\", nfK(d[\"nv\"][i]), join(allCells), \"\\\\\\\\\")\n",
    "end\n",
    "\n",
    "function printAllLines(d, solvers)\n",
    "    for i in 1:length(d[\"testName\"])\n",
    "        println(printOneLine(d, solvers, i))\n",
    "    end\n",
    "end"
   ]
  },
  {
   "cell_type": "code",
   "execution_count": 23,
   "metadata": {},
   "outputs": [
    {
     "name": "stdout",
     "output_type": "stream",
     "text": [
      "1990&287&24&0.443&1.08&0.853&18&0.622&1.95&0.799&Inf&Inf&Inf&Inf\\\\\n",
      "19900&2860&26&0.737&1.54&0.513&20&0.628&2.09&0.511&Inf&Inf&Inf&Inf\\\\\n",
      "200000&28700&27&0.85&1.95&0.82&20&1.04&3.98&0.55&Inf&Inf&Inf&Inf\\\\\n"
     ]
    }
   ],
   "source": [
    "solvers1 = [\"ac\", \"ac-s2m2\", \"cmg\"]\n",
    "printAllLines(dic1, solvers1)"
   ]
  },
  {
   "cell_type": "code",
   "execution_count": 24,
   "metadata": {},
   "outputs": [
    {
     "name": "stdout",
     "output_type": "stream",
     "text": [
      "1990&287&7&0.156&0.69&0.195&Inf&Inf&Inf&Inf&62&0.582&0.714&0.832\\\\\n",
      "19900&2860&7&0.165&0.539&0.804&Inf&Inf&Inf&Inf&112&0.838&0.969&0.928\\\\\n",
      "200000&28700&7&0.177&0.639&0.206&Inf&Inf&Inf&Inf&188&1.79&1.98&0.967\\\\\n"
     ]
    }
   ],
   "source": [
    "solvers2 = [\"hypre\", \"petsc_hypre\", \"icc\"]\n",
    "printAllLines(dic1, solvers2)"
   ]
  },
  {
   "cell_type": "code",
   "execution_count": null,
   "metadata": {},
   "outputs": [],
   "source": []
  }
 ],
 "metadata": {
  "kernelspec": {
   "display_name": "Julia 1.5.3",
   "language": "julia",
   "name": "julia-1.5"
  },
  "language_info": {
   "file_extension": ".jl",
   "mimetype": "application/julia",
   "name": "julia",
   "version": "1.7.3"
  }
 },
 "nbformat": 4,
 "nbformat_minor": 4
}
